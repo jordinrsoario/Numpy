{
 "cells": [
  {
   "cell_type": "code",
   "execution_count": 14,
   "metadata": {},
   "outputs": [
    {
     "name": "stdout",
     "output_type": "stream",
     "text": [
      "[[1 2 3]\n",
      " [4 5 6]\n",
      " [7 8 9]]\n",
      "\n",
      "[1 2 3]\n",
      "[1 4 7]\n",
      "[2 2 2]\n"
     ]
    }
   ],
   "source": [
    "import numpy as np \n",
    "n= np.array([[1,2,3],[4,5,6],[7,8,9]])\n",
    "print(n)\n",
    "print('')\n",
    "print(np.amin(n,0))  #buscar valor min en columna \n",
    "print(np.amin(n,1)) #buscar valor min en fila\n",
    "\n",
    "print(np.ptp(n, axis=1)) #Obtener rangos \n"
   ]
  },
  {
   "cell_type": "code",
   "execution_count": 16,
   "metadata": {},
   "outputs": [
    {
     "name": "stdout",
     "output_type": "stream",
     "text": [
      "[2. 5. 8.]\n"
     ]
    }
   ],
   "source": [
    "#Perceptiles\n",
    "print(np.percentile(n,50, axis=1))"
   ]
  },
  {
   "cell_type": "code",
   "execution_count": 20,
   "metadata": {},
   "outputs": [
    {
     "name": "stdout",
     "output_type": "stream",
     "text": [
      "[[1 2 3]\n",
      " [4 5 6]\n",
      " [7 8 9]]\n",
      "[4. 5. 6.]\n"
     ]
    }
   ],
   "source": [
    "#mediana \n",
    "n= np.array([[1,2,3],[4,5,6],[7,8,9]])\n",
    "print(n)\n",
    "print(np.median(n, axis=0))"
   ]
  },
  {
   "cell_type": "code",
   "execution_count": 24,
   "metadata": {},
   "outputs": [
    {
     "name": "stdout",
     "output_type": "stream",
     "text": [
      "5.0\n",
      "5.0\n"
     ]
    }
   ],
   "source": [
    "#media aritmetica\n",
    "print(np.mean(n))\n"
   ]
  },
  {
   "cell_type": "code",
   "execution_count": 26,
   "metadata": {},
   "outputs": [
    {
     "name": "stdout",
     "output_type": "stream",
     "text": [
      "5.0\n"
     ]
    }
   ],
   "source": [
    "#Promedio penderado\n",
    "print(np.average(n))\n"
   ]
  },
  {
   "cell_type": "code",
   "execution_count": 27,
   "metadata": {},
   "outputs": [
    {
     "name": "stdout",
     "output_type": "stream",
     "text": [
      "2.581988897471611\n"
     ]
    }
   ],
   "source": [
    "#Desviacion estandar \n",
    "\n",
    "print(np.std(n))"
   ]
  }
 ],
 "metadata": {
  "interpreter": {
   "hash": "f242c2db74b4d4735b99ee7e0dc6f91cd3b07a4f7cac6f592eaa41c9daf7d0d7"
  },
  "kernelspec": {
   "display_name": "Python 3.10.0 ('venv': venv)",
   "language": "python",
   "name": "python3"
  },
  "language_info": {
   "codemirror_mode": {
    "name": "ipython",
    "version": 3
   },
   "file_extension": ".py",
   "mimetype": "text/x-python",
   "name": "python",
   "nbconvert_exporter": "python",
   "pygments_lexer": "ipython3",
   "version": "3.10.0"
  },
  "orig_nbformat": 4
 },
 "nbformat": 4,
 "nbformat_minor": 2
}
