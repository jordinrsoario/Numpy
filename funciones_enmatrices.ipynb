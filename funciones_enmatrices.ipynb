{
 "cells": [
  {
   "cell_type": "code",
   "execution_count": 40,
   "metadata": {},
   "outputs": [
    {
     "name": "stdout",
     "output_type": "stream",
     "text": [
      "(10, 5)\n",
      "2\n",
      "50\n"
     ]
    }
   ],
   "source": [
    "#Funciones en matrices\n",
    "import numpy as np \n",
    "\n",
    "rangos = np.arange(50).reshape(10,5)\n",
    "print(rangos.shape)#para saber cuantas filas y cuantas columnas tiene un rango\n",
    "print(rangos.ndim)#saber las dimenciones de una matriz\n",
    "print(rangos.size)#saber cuantos elementos hay en una mtriz \n"
   ]
  },
  {
   "cell_type": "code",
   "execution_count": 41,
   "metadata": {},
   "outputs": [
    {
     "name": "stdout",
     "output_type": "stream",
     "text": [
      "[[0. 0.]\n",
      " [0. 0.]]\n"
     ]
    }
   ],
   "source": [
    "#Generar matriz de solo zeros \n",
    "zero=np.zeros((2,2))\n",
    "print(zero)\n"
   ]
  },
  {
   "cell_type": "code",
   "execution_count": 42,
   "metadata": {},
   "outputs": [
    {
     "name": "stdout",
     "output_type": "stream",
     "text": [
      "[[99. 98. 97. 96. 95. 94. 93. 92. 91. 90.]\n",
      " [89. 88. 87. 86. 85. 84. 83. 82. 81. 80.]\n",
      " [79. 78. 77. 76. 75. 74. 73. 72. 71. 70.]]\n"
     ]
    }
   ],
   "source": [
    "#Generar matrices aleatorias y rapidas \n",
    "\n",
    "notas=np.linspace(99,70,30).reshape(3,10)\n",
    "print(notas)"
   ]
  },
  {
   "cell_type": "code",
   "execution_count": 25,
   "metadata": {},
   "outputs": [
    {
     "name": "stdout",
     "output_type": "stream",
     "text": [
      "[[[ 0  1  2]\n",
      "  [ 3  4  5]\n",
      "  [ 6  7  8]]\n",
      "\n",
      " [[ 9 10 11]\n",
      "  [12 13 14]\n",
      "  [15 16 17]]\n",
      "\n",
      " [[18 19 20]\n",
      "  [21 22 23]\n",
      "  [24 25 26]]]\n"
     ]
    }
   ],
   "source": [
    "#Matrices de tres dimenciones\n",
    "\n",
    "tresdimenciones=np.arange(27).reshape(3,3,3)\n",
    "print(tresdimenciones)"
   ]
  },
  {
   "cell_type": "code",
   "execution_count": 46,
   "metadata": {},
   "outputs": [
    {
     "name": "stdout",
     "output_type": "stream",
     "text": [
      "[  2   3   4   5   7   8 121]\n"
     ]
    }
   ],
   "source": [
    "#Ordenar los datos de menor a mayor \n",
    "nm= np.array([121,2,3,7,5,4,8])\n",
    "print(np.sort(nm))\n"
   ]
  },
  {
   "cell_type": "code",
   "execution_count": 49,
   "metadata": {},
   "outputs": [
    {
     "name": "stdout",
     "output_type": "stream",
     "text": [
      "[ 1  8 27]\n"
     ]
    }
   ],
   "source": [
    "#Elevar un array\n",
    "Elevado= np.array([1,2,3])\n",
    "print(np.power(Elevado,3))"
   ]
  },
  {
   "cell_type": "code",
   "execution_count": 50,
   "metadata": {},
   "outputs": [
    {
     "name": "stdout",
     "output_type": "stream",
     "text": [
      "[False False False  True  True  True  True  True  True  True]\n"
     ]
    }
   ],
   "source": [
    "m1=np.array([1,2,3,4,5,6,7,8,9,10])\n",
    "print(np.array(m1>=4))"
   ]
  },
  {
   "cell_type": "code",
   "execution_count": 51,
   "metadata": {},
   "outputs": [
    {
     "name": "stdout",
     "output_type": "stream",
     "text": [
      "1\n",
      "2\n",
      "3\n",
      "4\n",
      "5\n"
     ]
    }
   ],
   "source": [
    "foorr=np.array([1,2,3,4,5])\n",
    "for i in foorr:\n",
    "    print(i)"
   ]
  },
  {
   "cell_type": "code",
   "execution_count": 53,
   "metadata": {},
   "outputs": [
    {
     "name": "stdout",
     "output_type": "stream",
     "text": [
      "10\n",
      "1\n"
     ]
    }
   ],
   "source": [
    "#Valor maximo\n",
    "m1=np.array([1,2,3,4,5,6,7,8,9,10])\n",
    "print(np.array(m1.max()))\n",
    "\n",
    "#Valor minimo \n",
    "m1=np.array([1,2,3,4,5,6,7,8,9,10])\n",
    "print(np.array(m1.min()))"
   ]
  },
  {
   "cell_type": "code",
   "execution_count": 55,
   "metadata": {},
   "outputs": [
    {
     "name": "stdout",
     "output_type": "stream",
     "text": [
      "[ 234   23   23   23   23  234   23  234   55   10  123 2123 3324  443\n",
      "   52   64   72   84   93  120]\n"
     ]
    }
   ],
   "source": [
    "#Combinar dos matrices\n",
    "m1=np.array([234,23,23,23,23,234,23,234,55,10])\n",
    "m2=np.array([123,2123,3324,443,52,64,72,84,93,120])\n",
    "print(np.concatenate((m1,m2)))\n"
   ]
  },
  {
   "cell_type": "code",
   "execution_count": 59,
   "metadata": {},
   "outputs": [
    {
     "name": "stdout",
     "output_type": "stream",
     "text": [
      "[[11 12]\n",
      " [11 12]]\n"
     ]
    }
   ],
   "source": [
    "m1=np.array([[1,2],[1,2]])\n",
    "m2=np.array([[1,5],[7,2]])\n",
    "\n",
    "print(m1+10)"
   ]
  },
  {
   "cell_type": "code",
   "execution_count": 61,
   "metadata": {},
   "outputs": [
    {
     "name": "stdout",
     "output_type": "stream",
     "text": [
      "[[1.         0.4       ]\n",
      " [0.14285714 1.        ]]\n"
     ]
    }
   ],
   "source": [
    "m1=np.array([1,2])\n",
    "print(np.divide(m1,m2))"
   ]
  },
  {
   "cell_type": "code",
   "execution_count": 62,
   "metadata": {},
   "outputs": [
    {
     "name": "stdout",
     "output_type": "stream",
     "text": [
      "[15  9]\n"
     ]
    }
   ],
   "source": [
    "print(m1.dot(m2))"
   ]
  }
 ],
 "metadata": {
  "interpreter": {
   "hash": "f242c2db74b4d4735b99ee7e0dc6f91cd3b07a4f7cac6f592eaa41c9daf7d0d7"
  },
  "kernelspec": {
   "display_name": "Python 3.10.0 ('venv': venv)",
   "language": "python",
   "name": "python3"
  },
  "language_info": {
   "codemirror_mode": {
    "name": "ipython",
    "version": 3
   },
   "file_extension": ".py",
   "mimetype": "text/x-python",
   "name": "python",
   "nbconvert_exporter": "python",
   "pygments_lexer": "ipython3",
   "version": "3.10.0"
  },
  "orig_nbformat": 4
 },
 "nbformat": 4,
 "nbformat_minor": 2
}
