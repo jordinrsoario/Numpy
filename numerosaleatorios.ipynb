{
 "cells": [
  {
   "cell_type": "code",
   "execution_count": 27,
   "metadata": {},
   "outputs": [
    {
     "data": {
      "text/plain": [
       "array([[5, 9, 7],\n",
       "       [0, 6, 8],\n",
       "       [9, 4, 1]])"
      ]
     },
     "execution_count": 27,
     "metadata": {},
     "output_type": "execute_result"
    }
   ],
   "source": [
    "import numpy as np\n",
    "#Generar numeros aleatorios enteros\n",
    "m=np.random.randint(10, size=(3,3))\n",
    "m"
   ]
  },
  {
   "cell_type": "code",
   "execution_count": 36,
   "metadata": {},
   "outputs": [
    {
     "name": "stdout",
     "output_type": "stream",
     "text": [
      "[[1 6 1 1]\n",
      " [4 1 3 4]\n",
      " [3 3 3 3]]\n"
     ]
    }
   ],
   "source": [
    "#generear numeros aleatorios con docimales \n",
    "nj=np.random.rand(5,5)\n",
    "nj\n",
    "#Seleccionar uno o mas valores aleatorio dentro de la matriz\n",
    "mk=np.random.choice([2,3,4,6,3,4,5,3,3,1,3,1],size =(3,4))\n",
    "print(mk)"
   ]
  },
  {
   "cell_type": "code",
   "execution_count": 47,
   "metadata": {},
   "outputs": [
    {
     "name": "stdout",
     "output_type": "stream",
     "text": [
      "[ 8  4  4  4  8 10 10  2  4  2  2  8  8  2  4  2  4  8  2  2  2  2  4  4\n",
      "  2  8  2  4  4  4  4  4  2  8  4  8  8  8  2  4  2  4  8  4  8  2  2  2\n",
      "  2  4]\n"
     ]
    }
   ],
   "source": [
    "matriz=np.random.choice([2,4,8,10], p=[0.3,0.3,0.3,0.1], size=[50])\n",
    "print(  matriz)"
   ]
  }
 ],
 "metadata": {
  "interpreter": {
   "hash": "f242c2db74b4d4735b99ee7e0dc6f91cd3b07a4f7cac6f592eaa41c9daf7d0d7"
  },
  "kernelspec": {
   "display_name": "Python 3.10.0 ('venv': venv)",
   "language": "python",
   "name": "python3"
  },
  "language_info": {
   "codemirror_mode": {
    "name": "ipython",
    "version": 3
   },
   "file_extension": ".py",
   "mimetype": "text/x-python",
   "name": "python",
   "nbconvert_exporter": "python",
   "pygments_lexer": "ipython3",
   "version": "3.10.0"
  },
  "orig_nbformat": 4
 },
 "nbformat": 4,
 "nbformat_minor": 2
}
